{
 "cells": [
  {
   "cell_type": "markdown",
   "metadata": {
    "id": "NotVZYfNpsSC"
   },
   "source": [
    "# Day 2"
   ]
  },
  {
   "cell_type": "markdown",
   "metadata": {},
   "source": [
    "## Dictionaries"
   ]
  },
  {
   "cell_type": "code",
   "execution_count": null,
   "metadata": {},
   "outputs": [],
   "source": [
    "insects = {'honeybee': 'Apis mellifera', \n",
    "           'fruitfly': 'Drosophila melanogaster',\n",
    "           'butterfly': 'Papilio machaon', \n",
    "           'ladybird': 'Coccinella septempunctata',\n",
    "           'fireant': 'Solenopsis invicta'}\n",
    "\n",
    "insects.update({ 'Mosquito' : 'Culex pipiens' })\n",
    "\n",
    "insects['honeybee'] = 'Apis cerana'\n",
    "\n",
    "print(list(insects.values()))\n",
    "\n",
    "print(\"All the latin names are:\\n\", '\\n'.join(list(insects.values())), \"\\nand there are\", len(insects.values()), \"types\")\n"
   ]
  },
  {
   "cell_type": "code",
   "execution_count": null,
   "metadata": {},
   "outputs": [
    {
     "name": "stdout",
     "output_type": "stream",
     "text": [
      "{'E. coli': 60, 'S. aureus': 82, 'P. aeruginosa': 75, 'K. pneumoniae': 91, 'A. baumannii': 70}\n",
      "91\n",
      "75.6 average confluence\n",
      "73.83 average confluence\n"
     ]
    },
    {
     "ename": "AttributeError",
     "evalue": "'dict_values' object has no attribute 'sort'",
     "output_type": "error",
     "traceback": [
      "\u001b[1;31m---------------------------------------------------------------------------\u001b[0m",
      "\u001b[1;31mAttributeError\u001b[0m                            Traceback (most recent call last)",
      "Cell \u001b[1;32mIn[5], line 20\u001b[0m\n\u001b[0;32m     17\u001b[0m \u001b[38;5;66;03m# Calculate Average\u001b[39;00m\n\u001b[0;32m     18\u001b[0m \u001b[38;5;28mprint\u001b[39m(\u001b[38;5;28mround\u001b[39m(\u001b[38;5;28msum\u001b[39m(bacteria_dict\u001b[38;5;241m.\u001b[39mvalues()) \u001b[38;5;241m/\u001b[39m \u001b[38;5;28mlen\u001b[39m(bacteria_dict),\u001b[38;5;241m2\u001b[39m), \u001b[38;5;124m\"\u001b[39m\u001b[38;5;124maverage confluence\u001b[39m\u001b[38;5;124m\"\u001b[39m)\n\u001b[1;32m---> 20\u001b[0m growths \u001b[38;5;241m=\u001b[39m \u001b[43mbacteria_dict\u001b[49m\u001b[38;5;241;43m.\u001b[39;49m\u001b[43mvalues\u001b[49m\u001b[43m(\u001b[49m\u001b[43m)\u001b[49m\u001b[38;5;241;43m.\u001b[39;49m\u001b[43msort\u001b[49m()\n",
      "\u001b[1;31mAttributeError\u001b[0m: 'dict_values' object has no attribute 'sort'"
     ]
    }
   ],
   "source": [
    "# Dictionary exercises\n",
    "bact = [\"E. coli\", \"S. aureus\", \"P. aeruginosa\", \"K. pneumoniae\", \"A. baumannii\"]\n",
    "conf = [60, 82, 75, 91, 70]\n",
    "\n",
    "# Create dictionary from two lists\n",
    "# Or type in directly: {'E. coli': 60, 'S. aureus': 80, 'P. aeruginosa': 75, 'K. pneumoniae': 90, 'A. baumannii': 70}\n",
    "bacteria_dict = dict(zip(bact, conf))\n",
    "print(bacteria_dict)\n",
    "\n",
    "# Print one element\n",
    "print(bacteria_dict.get(\"K. pneumoniae\"))\n",
    "print(round(sum(bacteria_dict.values()) / len(bacteria_dict),2), \"average confluence\")\n",
    "\n",
    "# Add pair\n",
    "bacteria_dict.update({\"L. Beijerinick\" : 65})\n",
    "\n",
    "# Calculate Average\n",
    "print(round(sum(bacteria_dict.values()) / len(bacteria_dict),2), \"average confluence\")\n",
    "\n",
    "growths = sorted(bacteria_dict.values())\n",
    "\n",
    "print(\"Lowest growth is\", growths[0], \"highest is\", growths[-1])"
   ]
  },
  {
   "cell_type": "markdown",
   "metadata": {
    "id": "1BQR9iEApv7b"
   },
   "source": [
    "## Looping"
   ]
  },
  {
   "cell_type": "code",
   "execution_count": 2,
   "metadata": {
    "id": "4ueQFl6W_5i0"
   },
   "outputs": [
    {
     "name": "stdout",
     "output_type": "stream",
     "text": [
      "Admiral total is 341 average is 68.2\n",
      "Total is 277 ( average 55.4 )\n",
      "Total is 160 ( average 32.0 )\n",
      "Total is 210 ( average 42.0 )\n",
      "Total is 341 ( average 68.2 )\n",
      "Total is 363 ( average 72.6 )\n"
     ]
    }
   ],
   "source": [
    "# Species and counts per day (Mon/Tues/Weds/Thurs/Fri)\n",
    "Monarch_count = [78, 70, 13, 17, 99]\n",
    "Swallowtail_count = [6, 16, 44, 50, 44]\n",
    "PaintedLady_count = [69, 27, 30, 74, 10]\n",
    "Admiral_count = [66, 87, 74, 49, 65]\n",
    "Peacock_count = [74, 78, 55, 70, 86]\n",
    "\n",
    "all_butterflies_list = [Monarch_count, Swallowtail_count, PaintedLady_count, Admiral_count, Peacock_count]\n",
    "\n",
    "total_count = 0\n",
    "for day in Admiral_count:\n",
    "     total_count += day\n",
    "\n",
    "print(\"Admiral total is\", total_count, \"average is\", total_count / len(Admiral_count))\n",
    "\n",
    "# All list\n",
    "for butterfly in all_butterflies_list:\n",
    "  total_count = 0\n",
    "  for day in butterfly:\n",
    "      total_count += day\n",
    "\n",
    "  print(\"Total is\", total_count, \"( average\", total_count / len(butterfly), \")\")\n",
    "\n"
   ]
  },
  {
   "cell_type": "code",
   "execution_count": 17,
   "metadata": {},
   "outputs": [
    {
     "name": "stdout",
     "output_type": "stream",
     "text": [
      "Monarch total is 277 ( average 55.4 )\n",
      "Swallowtail total is 160 ( average 32.0 )\n",
      "PaintedLady total is 210 ( average 42.0 )\n",
      "Admiral total is 341 ( average 68.2 )\n",
      "Peacock total is 363 ( average 72.6 )\n"
     ]
    }
   ],
   "source": [
    "butterfly_dict = {\"Monarch\"     : Monarch_count,\n",
    "                  \"Swallowtail\" : Swallowtail_count,\n",
    "                  \"PaintedLady\" : PaintedLady_count,\n",
    "                  \"Admiral\"     : Admiral_count,\n",
    "                  \"Peacock\"     : Peacock_count}\n",
    "\n",
    "for butterfly,blist in butterfly_dict.items():\n",
    "  bcount = 0\n",
    "  for day in blist:\n",
    "      bcount += day\n",
    "\n",
    "  print(butterfly, \"total is\", bcount, \"( average\", bcount / len(blist), \")\")\n",
    "  \n",
    "  #print(\"Total for\", butterfly, \"is\", sum(blist))\n",
    "\n",
    "  "
   ]
  },
  {
   "cell_type": "markdown",
   "metadata": {
    "id": "qxpQEW6vG0fk"
   },
   "source": [
    "## While and if"
   ]
  },
  {
   "cell_type": "code",
   "execution_count": 17,
   "metadata": {
    "id": "fkKRFa5YG0E0"
   },
   "outputs": [
    {
     "name": "stdout",
     "output_type": "stream",
     "text": [
      "T 31\n",
      "G 29\n",
      "C 27\n",
      "A 35\n",
      "T 31\n",
      "G 29\n",
      "A 34\n",
      "C 39\n",
      "T 40\n",
      "G 30\n",
      "C 35\n",
      "A 38\n",
      "T 30\n",
      "C 28\n",
      "G 29\n",
      "A 30\n",
      "T 33\n",
      "C 26\n",
      "G 24\n",
      "T 29\n",
      "TGCATGACTGCATCGATCGT\n",
      "TGCATGACTGCATCGATCGT\n"
     ]
    },
    {
     "data": {
      "text/plain": [
       "<matplotlib.lines.Line2D at 0x20023992b90>"
      ]
     },
     "execution_count": 17,
     "metadata": {},
     "output_type": "execute_result"
    },
    {
     "data": {
      "image/png": "[encoded data removed]",
      "text/plain": [
       "<Figure size 640x480 with 1 Axes>"
      ]
     },
     "metadata": {},
     "output_type": "display_data"
    }
   ],
   "source": [
    "sequence = \"TGCATGACTGCATCGATCGTACGATCGATCGATCGAT\"\n",
    "quality = [31, 29, 27, 35, 31, 29, 34, 39, 40, 30, 35, 38, 30, 28, 29, 30, 33, 26, 24, 29, 19, 11, 17, 16, 18, 17, 13, 11, 16, 19, 15, 3, 7, 15, 4, 10, 17]\n",
    "\n",
    "index = 0\n",
    "while index < len(sequence):\n",
    "    if quality[index] > 20:\n",
    "        print(sequence[index], quality[index])\n",
    "    index += 1\n",
    "\n",
    "good_seq = \"\"\n",
    "index = 0\n",
    "while index < len(sequence):\n",
    "    if quality[index] > 20:\n",
    "        good_seq += sequence[index]\n",
    "    index += 1\n",
    "\n",
    "print(good_seq)\n",
    "\n",
    "last_base = 0\n",
    "index = 0\n",
    "while index < len(sequence):\n",
    "    if quality[index] < 20:\n",
    "        last_base = index\n",
    "        break\n",
    "    index +=1\n",
    "\n",
    "print(sequence[:last_base])\n",
    "\n",
    "import matplotlib.pyplot as plt\n",
    "plt.plot(range(1, len(quality) + 1), quality)\n",
    "plt.axhline(20)"
   ]
  },
  {
   "cell_type": "markdown",
   "metadata": {},
   "source": [
    "## Ifs and ands"
   ]
  },
  {
   "cell_type": "code",
   "execution_count": 4,
   "metadata": {
    "colab": {
     "base_uri": "https://localhost:8080/"
    },
    "executionInfo": {
     "elapsed": 865,
     "status": "ok",
     "timestamp": 1684930769790,
     "user": {
      "displayName": "Daniel Pass",
      "userId": "05126028130431341848"
     },
     "user_tz": -60
    },
    "id": "9LGR723zsQg0",
    "outputId": "3488cb01-82dc-4f0a-e88d-ef9a0a76874a"
   },
   "outputs": [
    {
     "name": "stdout",
     "output_type": "stream",
     "text": [
      "TP53\n",
      "MYC\n"
     ]
    }
   ],
   "source": [
    "gene_expression = [(\"TP53\", 2.5), (\"BRCA1\", 1.8), (\"EGFR\", 3.2), (\"KRAS\", 0.9), (\"MYC\", 2.7), (\"PTEN\", 1.2), (\"CDKN2A\", 4.5), (\"AKT1\", 2.0), (\"ERBB2\", 1.5), (\"RB1\", 3.8)]\n",
    "\n",
    "for gene, expression in gene_expression:\n",
    "    if expression >2 and expression < 3:\n",
    "        print(gene)\n",
    "\n",
    "for gene, expression in gene_expression:\n",
    "    if 2 <  expression < 3:\n",
    "        print(gene)\n",
    "\n",
    "for gene, expression in gene_expression:\n",
    "    if expression < 2 and not gene == \"BRCA1\":\n",
    "        print(gene)\n",
    "\n",
    "for gene, expression in gene_expression:\n",
    "    if expression < 2:\n",
    "        print(\"Low\")\n",
    "    elif expression < 3:\n",
    "        print(\"medium\")\n",
    "    else:\n",
    "        print(gene, \"high\")"
   ]
  },
  {
   "cell_type": "markdown",
   "metadata": {},
   "source": [
    "## Advanced loops"
   ]
  },
  {
   "cell_type": "code",
   "execution_count": null,
   "metadata": {},
   "outputs": [],
   "source": [
    "# Break\n",
    "index = 0\n",
    "clean_sequence =\"\"\n",
    "\n",
    "while index < len(quality):\n",
    "    if quality[index] < 20:\n",
    "        break\n",
    "    else:\n",
    "        clean_sequence += sequence[index]\n",
    "    \n",
    "    index += 1\n",
    "\n",
    "print(\"Full:\", sequence)\n",
    "print(\"Trim:\", clean_sequence)"
   ]
  },
  {
   "cell_type": "code",
   "execution_count": 18,
   "metadata": {
    "id": "P1FWrCwtpriK"
   },
   "outputs": [],
   "source": [
    "# Data for your analysis\n",
    "gene_list = [\"TP53\", \"BRCA1\", \"EGFR\", \"KRAS\", \"MYC\", \"PTEN\", \"CDKN2A\", \"AKT1\", \"ERBB2\", \"RB1\", \"PIK3CA\", \"BRAF\", \"MET\", \"JAK2\", \"MAPK1\", \"NOTCH1\", \"FLT3\", \"KRAS\", \"EGFR\", \"PTEN\", \"TP53\", \"BRAF\", \"PIK3CA\", \"MYC\", \"ERBB2\", \"RB1\", \"AKT1\", \"CDKN2A\", \"MAPK1\", \"JAK2\"]\n",
    "gene_exp = [['TP53', -1.4245], ['BRCA1', 4.0941], ['EGFR', 1.8266], ['KRAS', -0.8996], ['MYC', -2.1188], ['PTEN', -1.8499], ['CDKN2A', 4.2798], ['AKT1', 0.4709], ['ERBB2', 2.144], ['RB1', 4.7541], ['PIK3CA', 2.6291], ['BRAF', 2.1514], ['MET', 0.2558], ['JAK2', 5.0332], ['MAPK1', 5.295], ['NOTCH1', 2.5695], ['FLT3', 5.3211], ['KRAS', 3.064], ['EGFR', 0.1768], ['PTEN', -0.4923], ['TP53', -4.7796], ['BRAF', -3.8257], ['PIK3CA', 0.3357], ['MYC', -0.0917], ['ERBB2', -3.2586], ['RB1', -0.7903], ['AKT1', 0.6729], ['CDKN2A', 5.8131], ['MAPK1', -4.9549], ['JAK2', -0.936]]\n",
    "qPCR_status = {'TP53': False, 'BRCA1': False, 'EGFR': True, 'KRAS': False, 'MYC': True, 'PTEN': True, 'CDKN2A': False, 'AKT1': True, 'ERBB2': False, 'RB1': False, 'PIK3CA': True, 'BRAF': False, 'MET': False, 'JAK2': True, 'MAPK1': False, 'NOTCH1': False, 'FLT3': True}"
   ]
  },
  {
   "cell_type": "code",
   "execution_count": 26,
   "metadata": {
    "colab": {
     "base_uri": "https://localhost:8080/",
     "height": 235
    },
    "executionInfo": {
     "elapsed": 261,
     "status": "error",
     "timestamp": 1683822191567,
     "user": {
      "displayName": "Daniel Pass",
      "userId": "05126028130431341848"
     },
     "user_tz": -60
    },
    "id": "lZKeVMzPndVQ",
    "outputId": "68cf440f-2366-496e-961d-c7b0e5642f55"
   },
   "outputs": [
    {
     "name": "stdout",
     "output_type": "stream",
     "text": [
      "Here we tested 30 genes resulting in 18 upregulated and 12 downregulated. qPCR confirmed 8 and 5 respectively.\n",
      "Here is the full list:\n",
      "\n",
      "qPCR confirmed upregulated genes\n",
      "EGFR\n",
      "AKT1\n",
      "PIK3CA\n",
      "JAK2\n",
      "FLT3\n",
      "EGFR\n",
      "PIK3CA\n",
      "AKT1\n",
      "\n",
      "qPCR confirmed downregulated genes\n",
      "MYC\n",
      "PTEN\n",
      "PTEN\n",
      "MYC\n",
      "JAK2\n"
     ]
    }
   ],
   "source": [
    "# Loops and ifs exercise\n",
    "up_genes = []\n",
    "down_genes = []\n",
    "up_qPCRd = []\n",
    "down_qPCRd = []\n",
    "\n",
    "for geneID,exp in gene_exp:\n",
    "    if exp < 0:\n",
    "        down_genes.append(geneID)\n",
    "    elif exp > 0:\n",
    "        up_genes.append(geneID)\n",
    "\n",
    "for geneID,exp in gene_exp:\n",
    "    if exp < 0 and qPCR_status.get(geneID):\n",
    "        down_qPCRd.append(geneID)\n",
    "    elif exp > 0 and qPCR_status.get(geneID):\n",
    "        up_qPCRd.append(geneID)\n",
    "\n",
    "print(\"Here we tested\", len(gene_list), \"genes resulting in\", len(up_genes), \"upregulated and\", len(down_genes), \"downregulated. qPCR confirmed\", len(up_qPCRd), \"and\", len(down_qPCRd), \"respectively.\")\n",
    "print(\"Here is the full list:\")\n",
    "\n",
    "print(\"\\nqPCR confirmed upregulated genes\")\n",
    "for gene in up_qPCRd:\n",
    "    print(gene)\n",
    "\n",
    "print(\"\\nqPCR confirmed downregulated genes\")\n",
    "for gene in down_qPCRd:\n",
    "    print(gene)"
   ]
  },
  {
   "cell_type": "markdown",
   "metadata": {
    "id": "Paoxpqs2LJss"
   },
   "source": [
    "## Advanced strings"
   ]
  },
  {
   "cell_type": "code",
   "execution_count": null,
   "metadata": {},
   "outputs": [],
   "source": [
    "for ID, seq in sequences.items():\n",
    "    #print(ID)\n",
    "    fragments = seq.split(\"-\")\n",
    "    \n",
    "    fragment_list = []\n",
    "\n",
    "    for frag in fragments:\n",
    "        if len(frag) >0:\n",
    "            fragment_list.append(len(frag))\n",
    "\n",
    "    all_frags.update( { ID : fragment_list })\n",
    "    print(\"\")\n",
    "\n",
    "print(all_frags)\n",
    "\n",
    "print(all_frags.get(\"ID3\"))"
   ]
  },
  {
   "cell_type": "code",
   "execution_count": null,
   "metadata": {},
   "outputs": [],
   "source": [
    "# MSA\n",
    "for geneID,seq in sequences.items():\n",
    "    fragments = seq.split('-')\n",
    "\n",
    "    longest_len = 0\n",
    "    longest_frag = \"\"\n",
    "\n",
    "    for frag in fragments:\n",
    "        if len(frag) > longest_len:\n",
    "            longest_len = len(frag)\n",
    "            longest_frag = frag\n",
    "        \n",
    "    print(geneID)\n",
    "    print(\"Longest fragment is:\", longest_len, \"bp long\")\n",
    "    print(\"The sequence is:\", longest_frag)\n",
    "    print()\n",
    "\n",
    "# MSA\n",
    "for geneID,seq in sequences.items():\n",
    "    fragments = list(filter(None, seq.split('-')))\n",
    "    longest = max(fragments, key=len)\n",
    "\n",
    "    print(geneID)\n",
    "    print(\"Longest fragment is:\", len(longest), \"bp long\")\n",
    "    print(\"The sequence is:\", longest)\n",
    "    \n",
    "    total_len = 0\n",
    "    for frag in fragments:\n",
    "        total_len += len(frag)\n",
    "\n",
    "    print(\"Average:\", round(total_len / len(fragments), 2), \"bp\\n\")"
   ]
  },
  {
   "cell_type": "markdown",
   "metadata": {},
   "source": [
    "# Day2 project Messy data"
   ]
  },
  {
   "cell_type": "code",
   "execution_count": 17,
   "metadata": {
    "colab": {
     "base_uri": "https://localhost:8080/",
     "height": 273
    },
    "executionInfo": {
     "elapsed": 17,
     "status": "error",
     "timestamp": 1684937418039,
     "user": {
      "displayName": "Daniel Pass",
      "userId": "05126028130431341848"
     },
     "user_tz": -60
    },
    "id": "quTX88JjLI84",
    "outputId": "04c3396e-1f41-4c75-b7ed-606ad62aba9f"
   },
   "outputs": [
    {
     "name": "stdout",
     "output_type": "stream",
     "text": [
      "Average May percentage abundance: 14.322000000000001\n",
      "Average August percentage abundance: 12.34666666666667\n",
      "Phylum\t\tCount\n",
      "Actinomycetes \t 17\n",
      "Proteobacteria \t 30\n",
      "Cyanobacteria \t 26\n",
      "Firmicutes \t 24\n",
      "Chloroflexi \t 28\n",
      "Acidobacteria \t 22\n",
      "Bacillus \t 34\n"
     ]
    }
   ],
   "source": [
    "# Read file in as one block because too messy to read line by line\n",
    "with open(\"/content/Day2-Project-MessyData.txt\") as inFile:\n",
    "  data = inFile.read()\n",
    "\n",
    "#print(data)\n",
    "\n",
    "records = data.split(',')\n",
    "\n",
    "clean_records = []\n",
    "for rec in records:\n",
    "    fields = rec.split('-')\n",
    "\n",
    "    clean_record = []\n",
    "    for element in fields:\n",
    "        clean_element = element.strip()\n",
    "        clean_record.append(clean_element)\n",
    "\n",
    "    clean_record[1] = float(clean_record[1].replace('%', ''))\n",
    "\n",
    "    clean_records.append(clean_record)\n",
    "\n",
    "all_phyla = []\n",
    "for rec in clean_records:\n",
    "    dom_phyla = rec[2].split('&')\n",
    "    all_phyla += dom_phyla\n",
    "\n",
    "    #print(rec)\n",
    "\n",
    "# Get a list of the unique phyla - set automatically removes duplicates\n",
    "phyla = set(phyla_count)\n",
    "\n",
    "# Loop through and print it out\n",
    "phyla = ['Actinomycetes', 'Proteobacteria', 'Cyanobacteria', 'Firmicutes', 'Chloroflexi', 'Acidobacteria', 'Bacillus']\n",
    "\n",
    "print(\"Phylum\\t\\tCount\")\n",
    "for p in phyla:\n",
    "    print(p, \"\\t\", phyla_count.count(p))\n",
    "\n",
    "## Exentsion\n",
    "# add with specific string\n",
    "may_percentages = []\n",
    "aug_percentages = []\n",
    "for record in clean_records:\n",
    "  if record[3] == '04/05/22':\n",
    "      may_percentages.append(record[1])\n",
    "  elif record[3] == '01/08/22':\n",
    "      aug_percentages.append(record[1])\n",
    "\n",
    "print(\"Average May percentage abundance:\", sum(may_percentages) / len(may_percentages))\n",
    "print(\"Average August percentage abundance:\", sum(aug_percentages) / len(aug_percentages))\n",
    "\n",
    "### Alt\n",
    "march_counts = 0\n",
    "march_len = 0\n",
    "\n",
    "for rec in clean_records:\n",
    "    if rec[3] == \"15/03/22\":\n",
    "        march_counts += rec[1]\n",
    "        march_len += 1\n",
    "    \n",
    "\n",
    "print(march_counts)\n",
    "print(march_counts/march_len)\n",
    "\n",
    "\n",
    "###\n",
    "# Make a dictionary by dates\n",
    "\n",
    "date_avgs = {}\n",
    "for record in clean_records:\n",
    "    #print(record[-1])\n",
    "    date = record[-1]\n",
    "    fix_date = \"d\" + date.replace('/','_')\n",
    "            #print(fix_date)\n",
    "    if fix_date not in date_avgs:\n",
    "        date_avgs[fix_date] = []\n",
    "\n",
    "    date_avgs[fix_date].append(float(record[1]))\n",
    "\n",
    "for date, counts in date_avgs.items():\n",
    "    print(\"for date\", date, \"average abundance is\", str(round(sum(counts)/len(counts),2)) + \"%\")\n",
    "\n"
   ]
  }
 ],
 "metadata": {
  "colab": {
   "authorship_tag": "ABX9TyOOcCM0d5Lxabm6z41VjajL",
   "provenance": [
    {
     "file_id": "1ILF-yttFrPFoStXZ947q7qDe-hCwiZoP",
     "timestamp": 1684845711098
    }
   ]
  },
  "kernelspec": {
   "display_name": "Python 3",
   "name": "python3"
  },
  "language_info": {
   "codemirror_mode": {
    "name": "ipython",
    "version": 3
   },
   "file_extension": ".py",
   "mimetype": "text/x-python",
   "name": "python",
   "nbconvert_exporter": "python",
   "pygments_lexer": "ipython3",
   "version": "3.11.5"
  }
 },
 "nbformat": 4,
 "nbformat_minor": 0
}

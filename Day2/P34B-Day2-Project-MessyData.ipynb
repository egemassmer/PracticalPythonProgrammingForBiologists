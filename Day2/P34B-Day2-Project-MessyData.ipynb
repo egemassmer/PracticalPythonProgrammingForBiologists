{
  "cells": [
    {
      "cell_type": "markdown",
      "metadata": {
        "id": "8y4AK8T2UmTw"
      },
      "source": [
        "# Practical Python Programming for Biologists\n",
        "Author: Dr. Daniel Pass | www.CompassBioinformatics.com\n",
        "\n",
        "---"
      ]
    },
    {
      "cell_type": "markdown",
      "metadata": {
        "id": "QxikhAFLUpPh"
      },
      "source": [
        "---\n",
        "\n",
        "# Day 2 Project - More strings & loops - and very messy data\n",
        "\n",
        "Data is messy. Biologist data even more so. Here we have some data on bacterial abundance as collected by some well meaning scientists but unfortunately it's a bit of a mess. It is technically in a four column format liks this, howver when you look below it's mixed up:\n",
        "\n",
        "```\n",
        "| Collector | Percentage abundance | Dominant Phyla | Date |\n",
        "```\n",
        "\n",
        "Delimeters:\n",
        "- Between collected sample records: ```,```\n",
        "- Between data fields per sample: ```-```\n",
        "\n",
        "We want to clean up the data and make some sense out of it. **The objective is to output a count of the number of samples with a high proportion of each phyla.**\n",
        "\n",
        "1. Look at the text file first so that you know what we are looking at!\n",
        "2. We will read in the file ```MessyData.txt``` with ```open()``` as one object (it is too mixed-up to read line-by-line), and then split based on the delimiters above. We will learn more about loading files in the IO session.\n",
        "\n",
        "If you want to challange yourself try to clean the data first before looking in this guide section!\n",
        "I recommend using ```print()``` functions after each step to check the output is as expected.\n",
        "\n",
        "---\n",
        "\n",
        "<details>\n",
        "<summary>Step-by-step guide</summary>\n",
        "\n",
        "2. First split the data by commas into a new list of ```records``` with the function ```.split()```\n",
        "2. Create a new loop to go through your ```records``` list and split each record by ```-``` into the 4 data elements (put the output into a new list too)\n",
        "3. Create a **2D/nested** loop for your latest list, to remove the whitepace off each element with ```.strip()```. (First go through each record, then through each element. Make sure to keep experiments together!)\n",
        "4. Create a long list of all the dominant phyla per sample (The third column of the data) - some samples have multiple phyla, so have to be split again first! Careful here, because you want a basic list, not a list of lists.\n",
        "\n",
        "</details>\n",
        "\n",
        "---\n",
        "\n",
        "5. Print out your new clean dataframe!\n",
        "\n",
        "**Extensions**\n",
        "1. Calculate the average abundance per collection date (4 options) (use ```if date_column == ....```. We'll look at automatically building lists later)\n",
        "2. Output a clean list of all named phyla from the data column in a list named ```phyla_count```. There may be more than one phyla in the list per sample. There is a codeblock at the end that will count for each of the list I've given you, and summarise your output for a list of phyla."
      ]
    },
    {
      "cell_type": "code",
      "execution_count": 1,
      "metadata": {
        "id": "xCi8rep_TvGs",
        "outputId": "1e3b3d2d-b227-4224-8e6f-e7811315b048",
        "colab": {
          "base_uri": "https://localhost:8080/",
          "height": 207
        }
      },
      "outputs": [
        {
          "output_type": "error",
          "ename": "FileNotFoundError",
          "evalue": "[Errno 2] No such file or directory: '/content/Day2-Project-MessyData.txt'",
          "traceback": [
            "\u001b[0;31m---------------------------------------------------------------------------\u001b[0m",
            "\u001b[0;31mFileNotFoundError\u001b[0m                         Traceback (most recent call last)",
            "\u001b[0;32m/tmp/ipython-input-2978071671.py\u001b[0m in \u001b[0;36m<cell line: 0>\u001b[0;34m()\u001b[0m\n\u001b[1;32m      1\u001b[0m \u001b[0;31m# Write your code here\u001b[0m\u001b[0;34m\u001b[0m\u001b[0;34m\u001b[0m\u001b[0m\n\u001b[1;32m      2\u001b[0m \u001b[0;31m# Read file in as one block because too messy to read line by line\u001b[0m\u001b[0;34m\u001b[0m\u001b[0;34m\u001b[0m\u001b[0m\n\u001b[0;32m----> 3\u001b[0;31m \u001b[0;32mwith\u001b[0m \u001b[0mopen\u001b[0m\u001b[0;34m(\u001b[0m\u001b[0;34m\"/content/Day2-Project-MessyData.txt\"\u001b[0m\u001b[0;34m)\u001b[0m \u001b[0;32mas\u001b[0m \u001b[0minFile\u001b[0m\u001b[0;34m:\u001b[0m\u001b[0;34m\u001b[0m\u001b[0;34m\u001b[0m\u001b[0m\n\u001b[0m\u001b[1;32m      4\u001b[0m   \u001b[0mdata\u001b[0m \u001b[0;34m=\u001b[0m \u001b[0minFile\u001b[0m\u001b[0;34m.\u001b[0m\u001b[0mread\u001b[0m\u001b[0;34m(\u001b[0m\u001b[0;34m)\u001b[0m\u001b[0;34m\u001b[0m\u001b[0;34m\u001b[0m\u001b[0m\n\u001b[1;32m      5\u001b[0m \u001b[0;34m\u001b[0m\u001b[0m\n",
            "\u001b[0;31mFileNotFoundError\u001b[0m: [Errno 2] No such file or directory: '/content/Day2-Project-MessyData.txt'"
          ]
        }
      ],
      "source": [
        "# Write your code here\n",
        "# Read file in as one block because too messy to read line by line\n",
        "with open(\"/content/Day2-Project-MessyData.txt\") as inFile:\n",
        "  data = inFile.read()\n",
        "\n",
        "print(data)\n"
      ]
    },
    {
      "cell_type": "code",
      "execution_count": null,
      "metadata": {
        "id": "o_2oCiiqnp56"
      },
      "outputs": [],
      "source": [
        "# Name your final clean list of all phyla \"phyla_count\", then test it with this code block\n",
        "phyla = ['Actinomycetes', 'Proteobacteria', 'Cyanobacteria', 'Firmicutes', 'Chloroflexi', 'Acidobacteria', 'Bacillus']\n",
        "\n",
        "print(\"Phylum\\t\\tCount\")\n",
        "for p in phyla:\n",
        "    print(p, \"\\t\", phyla_count.count(p))\n",
        ""
      ]
    }
  ],
  "metadata": {
    "colab": {
      "provenance": []
    },
    "kernelspec": {
      "display_name": "Python 3",
      "name": "python3"
    },
    "language_info": {
      "codemirror_mode": {
        "name": "ipython",
        "version": 3
      },
      "file_extension": ".py",
      "mimetype": "text/x-python",
      "name": "python",
      "nbconvert_exporter": "python",
      "pygments_lexer": "ipython3",
      "version": "3.11.5"
    }
  },
  "nbformat": 4,
  "nbformat_minor": 0
}
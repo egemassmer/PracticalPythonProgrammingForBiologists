{
 "cells": [
  {
   "cell_type": "markdown",
   "metadata": {
    "id": "QfYvI-_yE10I"
   },
   "source": [
    "# Practical Python Programming for Biologists\n",
    "Author: Dr. Daniel Pass | www.CompassBioinformatics.com\n",
    "\n",
    "---"
   ]
  },
  {
   "cell_type": "markdown",
   "metadata": {
    "id": "rQ5nBszYVmZT"
   },
   "source": [
    "# Dictionaries\n",
    "\n",
    "A dictionary at first looks like a 2D list but is actually unique because all data is in unordered key-value pairs. They are particularly useful for finding the corresponding pair (like a real dictionary!) when you have one value for example:\n",
    "\n",
    "- ```geneID => sequence```\n",
    "- ```aminoAcid => frequency```\n",
    "- ```site => longitude/lattitude```\n",
    "\n",
    "This example dictionary has a frequency count of each base, where the first element in each pair is the \"key\" reference, and the second element is the \"value\". \n",
    "\n",
    "It's defined in the format of ```'key' : 'value'```, between braces ```{ }``` (curly brackets)"
   ]
  },
  {
   "cell_type": "code",
   "execution_count": 15,
   "metadata": {
    "colab": {
     "base_uri": "https://localhost:8080/"
    },
    "executionInfo": {
     "elapsed": 265,
     "status": "ok",
     "timestamp": 1684698069685,
     "user": {
      "displayName": "Daniel Pass",
      "userId": "05126028130431341848"
     },
     "user_tz": -60
    },
    "id": "rTmf-Cp8WHSi",
    "outputId": "834be94c-b56f-465c-d251-c975f59513de"
   },
   "outputs": [
    {
     "name": "stdout",
     "output_type": "stream",
     "text": [
      "{'A': 101, 'T': 250, 'G': 125, 'C': 92}\n"
     ]
    }
   ],
   "source": [
    "# Create a dictionary of DNA base counts\n",
    "base_counts = {'A': 101, 'T': 250, 'G': 125, 'C': 92}\n",
    "print(base_counts)"
   ]
  },
  {
   "cell_type": "markdown",
   "metadata": {},
   "source": [
    "We can use the square bracket method ```dictionary['key']``` to return the value of a dictionary key similar to using the index number for a list, however the .get() method is usually better because it handles missing data better. Note the difference:"
   ]
  },
  {
   "cell_type": "code",
   "execution_count": 3,
   "metadata": {},
   "outputs": [
    {
     "name": "stdout",
     "output_type": "stream",
     "text": [
      "Number of Thymine: 250\n"
     ]
    },
    {
     "ename": "KeyError",
     "evalue": "'N'",
     "output_type": "error",
     "traceback": [
      "\u001b[1;31m---------------------------------------------------------------------------\u001b[0m",
      "\u001b[1;31mKeyError\u001b[0m                                  Traceback (most recent call last)",
      "Cell \u001b[1;32mIn[3], line 2\u001b[0m\n\u001b[0;32m      1\u001b[0m \u001b[38;5;28mprint\u001b[39m(\u001b[38;5;124m\"\u001b[39m\u001b[38;5;124mNumber of Thymine:\u001b[39m\u001b[38;5;124m\"\u001b[39m,  base_counts[\u001b[38;5;124m'\u001b[39m\u001b[38;5;124mT\u001b[39m\u001b[38;5;124m'\u001b[39m])\n\u001b[1;32m----> 2\u001b[0m \u001b[38;5;28mprint\u001b[39m(\u001b[38;5;124m\"\u001b[39m\u001b[38;5;124mNumber of Unknowns:\u001b[39m\u001b[38;5;124m\"\u001b[39m, \u001b[43mbase_counts\u001b[49m\u001b[43m[\u001b[49m\u001b[38;5;124;43m'\u001b[39;49m\u001b[38;5;124;43mN\u001b[39;49m\u001b[38;5;124;43m'\u001b[39;49m\u001b[43m]\u001b[49m)\n",
      "\u001b[1;31mKeyError\u001b[0m: 'N'"
     ]
    }
   ],
   "source": [
    "print(\"Number of Thymine:\",  base_counts['T'])"
   ]
  },
  {
   "cell_type": "code",
   "execution_count": null,
   "metadata": {},
   "outputs": [],
   "source": [
    "print(\"Number of Unknowns:\", base_counts['N'])"
   ]
  },
  {
   "cell_type": "code",
   "execution_count": 4,
   "metadata": {},
   "outputs": [
    {
     "name": "stdout",
     "output_type": "stream",
     "text": [
      "Number of Unknowns: None\n"
     ]
    }
   ],
   "source": [
    "print(\"Number of Unknowns:\", base_counts.get('N'))"
   ]
  },
  {
   "cell_type": "markdown",
   "metadata": {},
   "source": [
    "First lets add some new pairs to the dictionary. This can be done two ways:"
   ]
  },
  {
   "cell_type": "code",
   "execution_count": 16,
   "metadata": {},
   "outputs": [
    {
     "name": "stdout",
     "output_type": "stream",
     "text": [
      "{'A': 101, 'T': 250, 'G': 125, 'C': 92, 'N': 5, 'MISSING': 0}\n"
     ]
    }
   ],
   "source": [
    "# Add a two new key-value pairs to the dictionary\n",
    "base_counts['N'] = 5\n",
    "base_counts.update({ 'MISSING' : 0 })\n",
    "\n",
    "print(base_counts)"
   ]
  },
  {
   "cell_type": "markdown",
   "metadata": {
    "id": "cw8OZ_CwWvxT"
   },
   "source": [
    "We can then access individual values based on their key just like looking them up in a dictionary, or modify/delete them:"
   ]
  },
  {
   "cell_type": "code",
   "execution_count": 17,
   "metadata": {
    "colab": {
     "base_uri": "https://localhost:8080/"
    },
    "executionInfo": {
     "elapsed": 260,
     "status": "ok",
     "timestamp": 1684698071341,
     "user": {
      "displayName": "Daniel Pass",
      "userId": "05126028130431341848"
     },
     "user_tz": -60
    },
    "id": "JMKJ30HtW07q",
    "outputId": "53a85cda-f52f-4645-8121-0ea5a99647ec"
   },
   "outputs": [
    {
     "name": "stdout",
     "output_type": "stream",
     "text": [
      "Number of Adenine: 101\n",
      "Number of Thymine: 250\n",
      "Number of Unknowns: 5\n",
      "{'A': 101, 'T': 250, 'G': 125, 'C': 92, 'N': 5, 'MISSING': 0}\n",
      "{'A': 65, 'T': 250, 'G': 125, 'C': 92, 'N': 5}\n",
      "{'A': 65, 'G': 125, 'C': 92, 'N': 5}\n",
      "Number of Adenine: 65\n",
      "Number of Thymine: None\n",
      "Number of Unknowns: 5\n"
     ]
    }
   ],
   "source": [
    "base_counts = {'A': 101, 'T': 250, 'G': 125, 'C': 92, 'N': 5, 'MISSING': 0}\n",
    "\n",
    "# Print corresponding value (two methods)\n",
    "print(\"Number of Adenine:\", base_counts.get('A'))\n",
    "print(\"Number of Thymine:\", base_counts.get('T'))\n",
    "print(\"Number of Unknowns:\", base_counts.get('N'))\n",
    "print(base_counts)\n",
    "\n",
    "# Modify the value for a key\n",
    "base_counts['A'] = 65\n",
    "\n",
    "# Remove the 'MISSING' key-value pair from the dictionary\n",
    "base_counts.pop('MISSING')\n",
    "print(base_counts)"
   ]
  },
  {
   "cell_type": "code",
   "execution_count": null,
   "metadata": {},
   "outputs": [],
   "source": [
    "# There is also the del statement\n",
    "del base_counts['T']\n",
    "print(base_counts)\n",
    "\n",
    "# Print corresponding value (two methods)\n",
    "print(\"Number of Adenine:\", base_counts.get('A'))\n",
    "print(\"Number of Thymine:\", base_counts.get('T'))\n",
    "print(\"Number of Unknowns:\", base_counts.get('N'))"
   ]
  },
  {
   "cell_type": "markdown",
   "metadata": {},
   "source": [
    "A useful set of methods are ```.keys()``` and ```.values()``` which return dict objects (just like when we made a range). They can be turned into a list using the ```list()``` function in the same way."
   ]
  },
  {
   "cell_type": "code",
   "execution_count": 9,
   "metadata": {},
   "outputs": [
    {
     "name": "stdout",
     "output_type": "stream",
     "text": [
      "dict_values([65, 125, 5])\n",
      "dict_keys(['A', 'G', 'N'])\n"
     ]
    }
   ],
   "source": [
    "# Print just the values\n",
    "print(base_counts.values())\n",
    "\n",
    "# Print just the keys\n",
    "print(base_counts.keys())"
   ]
  },
  {
   "cell_type": "markdown",
   "metadata": {},
   "source": [
    "We can also use the ```.items()``` method to return key:value pairs as a list of tuples. We'll return to this when we know how to run through loops of data"
   ]
  },
  {
   "cell_type": "code",
   "execution_count": 19,
   "metadata": {},
   "outputs": [
    {
     "name": "stdout",
     "output_type": "stream",
     "text": [
      "{'A': 65, 'G': 125, 'N': 5}\n",
      "dict_items([('A', 65), ('G', 125), ('N', 5)])\n"
     ]
    }
   ],
   "source": [
    "# Print just the values\n",
    "print(base_counts)\n",
    "print(base_counts.items())"
   ]
  },
  {
   "cell_type": "markdown",
   "metadata": {},
   "source": [
    "### Dictionary exercise\n",
    "\n",
    "1. Create a dictionary named insects where keys are the common short names of insects and values are their Latin names using this data. \n",
    "- honeybee  - _Apis mellifera_\n",
    "- fruitfly  - _Drosophila melanogaster_\n",
    "- butterfly - _Papilio machaon_\n",
    "- ladybird  - _Coccinella septempunctata_\n",
    "- fireant   - _Solenopsis invicta_\n",
    "\n",
    "2. Add a new insect to the insects dictionary with Mosquito : _Culex pipiens_\n",
    "3. Actually we have incorrectly identified the bee! Modify the honeybee to _Apis cerana_\n",
    "4. Print the list of latin names as a dict_list, and how many species are in the dictionary"
   ]
  },
  {
   "cell_type": "code",
   "execution_count": null,
   "metadata": {},
   "outputs": [],
   "source": [
    "# Code goes here"
   ]
  },
  {
   "cell_type": "markdown",
   "metadata": {
    "id": "KsVBxlMZXqI7"
   },
   "source": [
    "---\n",
    "#### Dictionary Example\n",
    "Dictionaries are really important and powerful. Lets look at another example where we can attach specific information to geneIDs, and use the ```.get``` method to search the dictionary.\n",
    "\n",
    "Here we can combine a gene sequence dictionary with our 2D list exercise from earlier"
   ]
  },
  {
   "cell_type": "code",
   "execution_count": 21,
   "metadata": {
    "colab": {
     "base_uri": "https://localhost:8080/"
    },
    "executionInfo": {
     "elapsed": 225,
     "status": "ok",
     "timestamp": 1684698302821,
     "user": {
      "displayName": "Daniel Pass",
      "userId": "05126028130431341848"
     },
     "user_tz": -60
    },
    "id": "O8UFUTAvXucr",
    "outputId": "e510cc6e-5dbc-4e7a-9369-75d3e76083d6"
   },
   "outputs": [
    {
     "name": "stdout",
     "output_type": "stream",
     "text": [
      "TP53\n",
      "0.4\n"
     ]
    }
   ],
   "source": [
    "## The data\n",
    "\n",
    "# Dictionary of gene names and sequences\n",
    "gene_dict = {'BRCA1': 'ATGTTGTCATCGTTGAGCTTTGCTTCCT',\n",
    "             'TP53': 'ATGGAGGAGCCGCAGTCAGATC',\n",
    "             'EGFR': 'ATGACCATCCAAGATGATGGTGTC',\n",
    "             'KRAS': 'ATGACTGAATATAAACTTGTGGTAG',\n",
    "             'BRAF': 'ATGGTCCAGCTTGGACCCACTCC',\n",
    "             'ALK': 'ATGAAGGAGCCCTCAGATTTCTTG',\n",
    "             'RET': 'ATGGGTGGGTTGTCGGAAGATCTT',\n",
    "             'ROS1': 'ATGAGCCACCCAGGTCCCTGTAGT',\n",
    "             'MET': 'ATGGCTTCAAGCTGTTGTCGTGAAGA'}\n",
    "\n",
    "# gene confidence values\n",
    "gene_confs = [[0.92, 'MET1', 2205], [0.82, 'EGFR', 1567], [0.93, 'KRAS', 6523], [0.4, 'TP53', 5002], [0.94, 'ROS5', 1999], [0.87, 'BRCA1', 2323]]\n",
    "\n",
    "# sort and get lowest conf gene ID\n",
    "gene_confs.sort()\n",
    "lowest_gene_conf = gene_confs[0][0]\n",
    "lowest_gene_ID = gene_confs[0][1]\n",
    "\n",
    "print(lowest_gene_ID)\n",
    "print(lowest_gene_conf)"
   ]
  },
  {
   "cell_type": "markdown",
   "metadata": {},
   "source": [
    "We don't need to type the exact gene name. we can use the variable as the key:"
   ]
  },
  {
   "cell_type": "code",
   "execution_count": 22,
   "metadata": {},
   "outputs": [
    {
     "name": "stdout",
     "output_type": "stream",
     "text": [
      "ATGGAGGAGCCGCAGTCAGATC\n",
      "Gene sequence for TP53 (Confidence value: 0.4) is: ATGGAGGAGCCGCAGTCAGATC\n"
     ]
    }
   ],
   "source": [
    "# Search dictionary keys for that ID\n",
    "print(gene_dict.get(lowest_gene_ID))\n",
    "\n",
    "# easier to read!\n",
    "print(\"Gene sequence for\", lowest_gene_ID, \"(Confidence value:\", str(lowest_gene_conf) + \") is:\",  gene_dict.get(lowest_gene_ID))"
   ]
  },
  {
   "cell_type": "markdown",
   "metadata": {},
   "source": [
    "Lets continue our example from 2D lists and remove the three lowest genes from our dictionary:"
   ]
  },
  {
   "cell_type": "code",
   "execution_count": 23,
   "metadata": {
    "colab": {
     "base_uri": "https://localhost:8080/"
    },
    "executionInfo": {
     "elapsed": 236,
     "status": "ok",
     "timestamp": 1684698433198,
     "user": {
      "displayName": "Daniel Pass",
      "userId": "05126028130431341848"
     },
     "user_tz": -60
    },
    "id": "jA5MCmWZTGIp",
    "outputId": "12a007be-1ab0-4c20-8468-3f84aed09b13"
   },
   "outputs": [
    {
     "name": "stdout",
     "output_type": "stream",
     "text": [
      "gene_dict contains 9 genes\n",
      "gene_dict contains 6 genes\n"
     ]
    }
   ],
   "source": [
    "print(\"gene_dict contains\", len(gene_dict), \"genes\")\n",
    "gene_dict.pop(\"EGFR\")\n",
    "gene_dict.pop(\"TP53\")\n",
    "gene_dict.pop(\"BRCA1\")\n",
    "print(\"gene_dict contains\", len(gene_dict), \"genes\")"
   ]
  },
  {
   "cell_type": "markdown",
   "metadata": {
    "id": "2-4AuHdaT1Xk"
   },
   "source": [
    "Actually, even better idea! Instead of just throwing the data out, lets put the DNA sequences of the lowest three genes from the dictionary into a new list called ```bad_genes``` before they get discarded. \n",
    "\n",
    "Note, what happens if you run this code immediately? Read the error and identify what is wrong."
   ]
  },
  {
   "cell_type": "code",
   "execution_count": 24,
   "metadata": {
    "colab": {
     "base_uri": "https://localhost:8080/"
    },
    "executionInfo": {
     "elapsed": 214,
     "status": "ok",
     "timestamp": 1684849540464,
     "user": {
      "displayName": "",
      "userId": ""
     },
     "user_tz": -60
    },
    "id": "2JQbjR594Ob2",
    "outputId": "c366c781-8780-4aa2-e3ba-438206463d19"
   },
   "outputs": [
    {
     "name": "stdout",
     "output_type": "stream",
     "text": [
      "gene_dict contains 6 genes\n"
     ]
    },
    {
     "ename": "KeyError",
     "evalue": "'EGFR'",
     "output_type": "error",
     "traceback": [
      "\u001b[1;31m---------------------------------------------------------------------------\u001b[0m",
      "\u001b[1;31mKeyError\u001b[0m                                  Traceback (most recent call last)",
      "Cell \u001b[1;32mIn[24], line 4\u001b[0m\n\u001b[0;32m      1\u001b[0m bad_genes \u001b[38;5;241m=\u001b[39m []\n\u001b[0;32m      3\u001b[0m \u001b[38;5;28mprint\u001b[39m(\u001b[38;5;124m\"\u001b[39m\u001b[38;5;124mgene_dict contains\u001b[39m\u001b[38;5;124m\"\u001b[39m, \u001b[38;5;28mlen\u001b[39m(gene_dict), \u001b[38;5;124m\"\u001b[39m\u001b[38;5;124mgenes\u001b[39m\u001b[38;5;124m\"\u001b[39m)\n\u001b[1;32m----> 4\u001b[0m bad_genes\u001b[38;5;241m.\u001b[39mappend(\u001b[43mgene_dict\u001b[49m\u001b[38;5;241;43m.\u001b[39;49m\u001b[43mpop\u001b[49m\u001b[43m(\u001b[49m\u001b[38;5;124;43m\"\u001b[39;49m\u001b[38;5;124;43mEGFR\u001b[39;49m\u001b[38;5;124;43m\"\u001b[39;49m\u001b[43m)\u001b[49m)\n\u001b[0;32m      5\u001b[0m bad_genes\u001b[38;5;241m.\u001b[39mappend(gene_dict\u001b[38;5;241m.\u001b[39mpop(\u001b[38;5;124m\"\u001b[39m\u001b[38;5;124mTP53\u001b[39m\u001b[38;5;124m\"\u001b[39m))\n\u001b[0;32m      6\u001b[0m bad_genes\u001b[38;5;241m.\u001b[39mappend(gene_dict\u001b[38;5;241m.\u001b[39mpop(\u001b[38;5;124m\"\u001b[39m\u001b[38;5;124mBRCA1\u001b[39m\u001b[38;5;124m\"\u001b[39m))\n",
      "\u001b[1;31mKeyError\u001b[0m: 'EGFR'"
     ]
    }
   ],
   "source": [
    "bad_genes = []\n",
    "\n",
    "print(\"gene_dict contains\", len(gene_dict), \"genes\")\n",
    "bad_genes.append(gene_dict.pop(\"EGFR\"))\n",
    "bad_genes.append(gene_dict.pop(\"TP53\"))\n",
    "bad_genes.append(gene_dict.pop(\"BRCA1\"))\n",
    "print(\"gene_dict contains\", len(gene_dict), \"genes\")"
   ]
  },
  {
   "cell_type": "code",
   "execution_count": 25,
   "metadata": {
    "id": "vfJfdHKn4SCZ"
   },
   "outputs": [
    {
     "name": "stdout",
     "output_type": "stream",
     "text": [
      "[]\n",
      "{'KRAS': 'ATGACTGAATATAAACTTGTGGTAG', 'BRAF': 'ATGGTCCAGCTTGGACCCACTCC', 'ALK': 'ATGAAGGAGCCCTCAGATTTCTTG', 'RET': 'ATGGGTGGGTTGTCGGAAGATCTT', 'ROS1': 'ATGAGCCACCCAGGTCCCTGTAGT', 'MET': 'ATGGCTTCAAGCTGTTGTCGTGAAGA'}\n"
     ]
    }
   ],
   "source": [
    "print(bad_genes)\n",
    "print(gene_dict)"
   ]
  },
  {
   "cell_type": "markdown",
   "metadata": {
    "id": "QKAudoMCYk2t"
   },
   "source": [
    "Dictionaries and lists are powerful ways to handle data and often involve going between the two. There are also lots of powerful methods to search throughnot just the keys, but also the values to find relevant keys which can be very useful but first we need to learn a bit about loops and conditionals!"
   ]
  },
  {
   "cell_type": "markdown",
   "metadata": {
    "id": "xKbU1nRZkgP5"
   },
   "source": [
    "## Exercises\n",
    "\n",
    "1. Create a dictionary of bacteria and confluence values (growth) using the data:\n",
    "\n",
    "```\n",
    "[\"E. coli\", \"S. aureus\", \"P. aeruginosa\", \"K. pneumoniae\", \"A. baumannii\"]\n",
    "[60, 82, 75, 91, 70]\n",
    "```\n",
    "2. Print the confluence value of *K. pneumoniae* from the dictionary\n",
    "3. A function we haven't used yet is ```sum()```, but it works just like ```len()```. Use both of these to calculate the average confluence of all the samples in the dictionary (what's the easiest way to get all the values?)\n",
    "4. Oops! We just found another sample! Add ```{L. Beijerinick : 65}``` to the dictionary.\n",
    "5. Print the species name with the highest growth."
   ]
  },
  {
   "cell_type": "code",
   "execution_count": 95,
   "metadata": {
    "id": "8JOxai9ZlReC"
   },
   "outputs": [
    {
     "name": "stdout",
     "output_type": "stream",
     "text": [
      "91\n",
      "75.6\n"
     ]
    }
   ],
   "source": [
    "# Format reminder\n",
    "bacteria_dict = {\"E. coli\": 60,}"
   ]
  }
 ],
 "metadata": {
  "colab": {
   "authorship_tag": "ABX9TyORQBISWP15Kmwcqi68fXzD",
   "provenance": [
    {
     "file_id": "1cWdsyOsrrZnrXUul6lCw1q88jay7SlsD",
     "timestamp": 1683731324320
    }
   ],
   "toc_visible": true
  },
  "kernelspec": {
   "display_name": "Python 3",
   "name": "python3"
  },
  "language_info": {
   "codemirror_mode": {
    "name": "ipython",
    "version": 3
   },
   "file_extension": ".py",
   "mimetype": "text/x-python",
   "name": "python",
   "nbconvert_exporter": "python",
   "pygments_lexer": "ipython3",
   "version": "3.11.5"
  }
 },
 "nbformat": 4,
 "nbformat_minor": 0
}
